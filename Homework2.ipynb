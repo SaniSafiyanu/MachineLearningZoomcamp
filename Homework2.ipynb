{
 "cells": [
  {
   "cell_type": "markdown",
   "metadata": {},
   "source": [
    "## Goal: Predict median house value "
   ]
  },
  {
   "cell_type": "markdown",
   "metadata": {},
   "source": [
    "### Import Libraries"
   ]
  },
  {
   "cell_type": "code",
   "execution_count": 4,
   "metadata": {},
   "outputs": [],
   "source": [
    "import numpy as np\n",
    "import pandas as pd\n",
    "from matplotlib import pyplot as plt\n",
    "import seaborn as sns\n",
    "import urllib.request"
   ]
  },
  {
   "cell_type": "markdown",
   "metadata": {},
   "source": [
    "### Import Dataset"
   ]
  },
  {
   "cell_type": "code",
   "execution_count": 2,
   "metadata": {},
   "outputs": [
    {
     "data": {
      "text/plain": [
       "('housing.csv', <http.client.HTTPMessage at 0x18653699e80>)"
      ]
     },
     "execution_count": 2,
     "metadata": {},
     "output_type": "execute_result"
    }
   ],
   "source": [
    "url = 'https://raw.githubusercontent.com/alexeygrigorev/datasets/master/housing.csv'\n",
    "filename = 'housing.csv'\n",
    "urllib.request.urlretrieve(url, filename)"
   ]
  },
  {
   "cell_type": "code",
   "execution_count": 69,
   "metadata": {},
   "outputs": [],
   "source": [
    "df = pd.read_csv('housing.csv')"
   ]
  },
  {
   "cell_type": "markdown",
   "metadata": {},
   "source": [
    "### Exploratory Data Analysis"
   ]
  },
  {
   "cell_type": "code",
   "execution_count": 5,
   "metadata": {},
   "outputs": [
    {
     "data": {
      "text/html": [
       "<div>\n",
       "<style scoped>\n",
       "    .dataframe tbody tr th:only-of-type {\n",
       "        vertical-align: middle;\n",
       "    }\n",
       "\n",
       "    .dataframe tbody tr th {\n",
       "        vertical-align: top;\n",
       "    }\n",
       "\n",
       "    .dataframe thead th {\n",
       "        text-align: right;\n",
       "    }\n",
       "</style>\n",
       "<table border=\"1\" class=\"dataframe\">\n",
       "  <thead>\n",
       "    <tr style=\"text-align: right;\">\n",
       "      <th></th>\n",
       "      <th>longitude</th>\n",
       "      <th>latitude</th>\n",
       "      <th>housing_median_age</th>\n",
       "      <th>total_rooms</th>\n",
       "      <th>total_bedrooms</th>\n",
       "      <th>population</th>\n",
       "      <th>households</th>\n",
       "      <th>median_income</th>\n",
       "      <th>median_house_value</th>\n",
       "      <th>ocean_proximity</th>\n",
       "    </tr>\n",
       "  </thead>\n",
       "  <tbody>\n",
       "    <tr>\n",
       "      <th>0</th>\n",
       "      <td>-122.23</td>\n",
       "      <td>37.88</td>\n",
       "      <td>41.0</td>\n",
       "      <td>880.0</td>\n",
       "      <td>129.0</td>\n",
       "      <td>322.0</td>\n",
       "      <td>126.0</td>\n",
       "      <td>8.3252</td>\n",
       "      <td>452600.0</td>\n",
       "      <td>NEAR BAY</td>\n",
       "    </tr>\n",
       "    <tr>\n",
       "      <th>1</th>\n",
       "      <td>-122.22</td>\n",
       "      <td>37.86</td>\n",
       "      <td>21.0</td>\n",
       "      <td>7099.0</td>\n",
       "      <td>1106.0</td>\n",
       "      <td>2401.0</td>\n",
       "      <td>1138.0</td>\n",
       "      <td>8.3014</td>\n",
       "      <td>358500.0</td>\n",
       "      <td>NEAR BAY</td>\n",
       "    </tr>\n",
       "    <tr>\n",
       "      <th>2</th>\n",
       "      <td>-122.24</td>\n",
       "      <td>37.85</td>\n",
       "      <td>52.0</td>\n",
       "      <td>1467.0</td>\n",
       "      <td>190.0</td>\n",
       "      <td>496.0</td>\n",
       "      <td>177.0</td>\n",
       "      <td>7.2574</td>\n",
       "      <td>352100.0</td>\n",
       "      <td>NEAR BAY</td>\n",
       "    </tr>\n",
       "    <tr>\n",
       "      <th>3</th>\n",
       "      <td>-122.25</td>\n",
       "      <td>37.85</td>\n",
       "      <td>52.0</td>\n",
       "      <td>1274.0</td>\n",
       "      <td>235.0</td>\n",
       "      <td>558.0</td>\n",
       "      <td>219.0</td>\n",
       "      <td>5.6431</td>\n",
       "      <td>341300.0</td>\n",
       "      <td>NEAR BAY</td>\n",
       "    </tr>\n",
       "    <tr>\n",
       "      <th>4</th>\n",
       "      <td>-122.25</td>\n",
       "      <td>37.85</td>\n",
       "      <td>52.0</td>\n",
       "      <td>1627.0</td>\n",
       "      <td>280.0</td>\n",
       "      <td>565.0</td>\n",
       "      <td>259.0</td>\n",
       "      <td>3.8462</td>\n",
       "      <td>342200.0</td>\n",
       "      <td>NEAR BAY</td>\n",
       "    </tr>\n",
       "  </tbody>\n",
       "</table>\n",
       "</div>"
      ],
      "text/plain": [
       "   longitude  latitude  housing_median_age  total_rooms  total_bedrooms  \\\n",
       "0    -122.23     37.88                41.0        880.0           129.0   \n",
       "1    -122.22     37.86                21.0       7099.0          1106.0   \n",
       "2    -122.24     37.85                52.0       1467.0           190.0   \n",
       "3    -122.25     37.85                52.0       1274.0           235.0   \n",
       "4    -122.25     37.85                52.0       1627.0           280.0   \n",
       "\n",
       "   population  households  median_income  median_house_value ocean_proximity  \n",
       "0       322.0       126.0         8.3252            452600.0        NEAR BAY  \n",
       "1      2401.0      1138.0         8.3014            358500.0        NEAR BAY  \n",
       "2       496.0       177.0         7.2574            352100.0        NEAR BAY  \n",
       "3       558.0       219.0         5.6431            341300.0        NEAR BAY  \n",
       "4       565.0       259.0         3.8462            342200.0        NEAR BAY  "
      ]
     },
     "execution_count": 5,
     "metadata": {},
     "output_type": "execute_result"
    }
   ],
   "source": [
    "df.head()"
   ]
  },
  {
   "cell_type": "code",
   "execution_count": 7,
   "metadata": {},
   "outputs": [
    {
     "data": {
      "text/html": [
       "<div>\n",
       "<style scoped>\n",
       "    .dataframe tbody tr th:only-of-type {\n",
       "        vertical-align: middle;\n",
       "    }\n",
       "\n",
       "    .dataframe tbody tr th {\n",
       "        vertical-align: top;\n",
       "    }\n",
       "\n",
       "    .dataframe thead th {\n",
       "        text-align: right;\n",
       "    }\n",
       "</style>\n",
       "<table border=\"1\" class=\"dataframe\">\n",
       "  <thead>\n",
       "    <tr style=\"text-align: right;\">\n",
       "      <th></th>\n",
       "      <th>count</th>\n",
       "      <th>mean</th>\n",
       "      <th>std</th>\n",
       "      <th>min</th>\n",
       "      <th>25%</th>\n",
       "      <th>50%</th>\n",
       "      <th>75%</th>\n",
       "      <th>max</th>\n",
       "    </tr>\n",
       "  </thead>\n",
       "  <tbody>\n",
       "    <tr>\n",
       "      <th>longitude</th>\n",
       "      <td>20640.0</td>\n",
       "      <td>-119.569704</td>\n",
       "      <td>2.003532</td>\n",
       "      <td>-124.3500</td>\n",
       "      <td>-121.8000</td>\n",
       "      <td>-118.4900</td>\n",
       "      <td>-118.01000</td>\n",
       "      <td>-114.3100</td>\n",
       "    </tr>\n",
       "    <tr>\n",
       "      <th>latitude</th>\n",
       "      <td>20640.0</td>\n",
       "      <td>35.631861</td>\n",
       "      <td>2.135952</td>\n",
       "      <td>32.5400</td>\n",
       "      <td>33.9300</td>\n",
       "      <td>34.2600</td>\n",
       "      <td>37.71000</td>\n",
       "      <td>41.9500</td>\n",
       "    </tr>\n",
       "    <tr>\n",
       "      <th>housing_median_age</th>\n",
       "      <td>20640.0</td>\n",
       "      <td>28.639486</td>\n",
       "      <td>12.585558</td>\n",
       "      <td>1.0000</td>\n",
       "      <td>18.0000</td>\n",
       "      <td>29.0000</td>\n",
       "      <td>37.00000</td>\n",
       "      <td>52.0000</td>\n",
       "    </tr>\n",
       "    <tr>\n",
       "      <th>total_rooms</th>\n",
       "      <td>20640.0</td>\n",
       "      <td>2635.763081</td>\n",
       "      <td>2181.615252</td>\n",
       "      <td>2.0000</td>\n",
       "      <td>1447.7500</td>\n",
       "      <td>2127.0000</td>\n",
       "      <td>3148.00000</td>\n",
       "      <td>39320.0000</td>\n",
       "    </tr>\n",
       "    <tr>\n",
       "      <th>total_bedrooms</th>\n",
       "      <td>20433.0</td>\n",
       "      <td>537.870553</td>\n",
       "      <td>421.385070</td>\n",
       "      <td>1.0000</td>\n",
       "      <td>296.0000</td>\n",
       "      <td>435.0000</td>\n",
       "      <td>647.00000</td>\n",
       "      <td>6445.0000</td>\n",
       "    </tr>\n",
       "    <tr>\n",
       "      <th>population</th>\n",
       "      <td>20640.0</td>\n",
       "      <td>1425.476744</td>\n",
       "      <td>1132.462122</td>\n",
       "      <td>3.0000</td>\n",
       "      <td>787.0000</td>\n",
       "      <td>1166.0000</td>\n",
       "      <td>1725.00000</td>\n",
       "      <td>35682.0000</td>\n",
       "    </tr>\n",
       "    <tr>\n",
       "      <th>households</th>\n",
       "      <td>20640.0</td>\n",
       "      <td>499.539680</td>\n",
       "      <td>382.329753</td>\n",
       "      <td>1.0000</td>\n",
       "      <td>280.0000</td>\n",
       "      <td>409.0000</td>\n",
       "      <td>605.00000</td>\n",
       "      <td>6082.0000</td>\n",
       "    </tr>\n",
       "    <tr>\n",
       "      <th>median_income</th>\n",
       "      <td>20640.0</td>\n",
       "      <td>3.870671</td>\n",
       "      <td>1.899822</td>\n",
       "      <td>0.4999</td>\n",
       "      <td>2.5634</td>\n",
       "      <td>3.5348</td>\n",
       "      <td>4.74325</td>\n",
       "      <td>15.0001</td>\n",
       "    </tr>\n",
       "    <tr>\n",
       "      <th>median_house_value</th>\n",
       "      <td>20640.0</td>\n",
       "      <td>206855.816909</td>\n",
       "      <td>115395.615874</td>\n",
       "      <td>14999.0000</td>\n",
       "      <td>119600.0000</td>\n",
       "      <td>179700.0000</td>\n",
       "      <td>264725.00000</td>\n",
       "      <td>500001.0000</td>\n",
       "    </tr>\n",
       "  </tbody>\n",
       "</table>\n",
       "</div>"
      ],
      "text/plain": [
       "                      count           mean            std         min  \\\n",
       "longitude           20640.0    -119.569704       2.003532   -124.3500   \n",
       "latitude            20640.0      35.631861       2.135952     32.5400   \n",
       "housing_median_age  20640.0      28.639486      12.585558      1.0000   \n",
       "total_rooms         20640.0    2635.763081    2181.615252      2.0000   \n",
       "total_bedrooms      20433.0     537.870553     421.385070      1.0000   \n",
       "population          20640.0    1425.476744    1132.462122      3.0000   \n",
       "households          20640.0     499.539680     382.329753      1.0000   \n",
       "median_income       20640.0       3.870671       1.899822      0.4999   \n",
       "median_house_value  20640.0  206855.816909  115395.615874  14999.0000   \n",
       "\n",
       "                            25%          50%           75%          max  \n",
       "longitude             -121.8000    -118.4900    -118.01000    -114.3100  \n",
       "latitude                33.9300      34.2600      37.71000      41.9500  \n",
       "housing_median_age      18.0000      29.0000      37.00000      52.0000  \n",
       "total_rooms           1447.7500    2127.0000    3148.00000   39320.0000  \n",
       "total_bedrooms         296.0000     435.0000     647.00000    6445.0000  \n",
       "population             787.0000    1166.0000    1725.00000   35682.0000  \n",
       "households             280.0000     409.0000     605.00000    6082.0000  \n",
       "median_income            2.5634       3.5348       4.74325      15.0001  \n",
       "median_house_value  119600.0000  179700.0000  264725.00000  500001.0000  "
      ]
     },
     "execution_count": 7,
     "metadata": {},
     "output_type": "execute_result"
    }
   ],
   "source": [
    "# Overview of data\n",
    "\n",
    "df.describe().T"
   ]
  },
  {
   "cell_type": "code",
   "execution_count": 8,
   "metadata": {},
   "outputs": [
    {
     "data": {
      "text/plain": [
       "array([[<AxesSubplot:title={'center':'longitude'}>,\n",
       "        <AxesSubplot:title={'center':'latitude'}>,\n",
       "        <AxesSubplot:title={'center':'housing_median_age'}>],\n",
       "       [<AxesSubplot:title={'center':'total_rooms'}>,\n",
       "        <AxesSubplot:title={'center':'total_bedrooms'}>,\n",
       "        <AxesSubplot:title={'center':'population'}>],\n",
       "       [<AxesSubplot:title={'center':'households'}>,\n",
       "        <AxesSubplot:title={'center':'median_income'}>,\n",
       "        <AxesSubplot:title={'center':'median_house_value'}>]],\n",
       "      dtype=object)"
      ]
     },
     "execution_count": 8,
     "metadata": {},
     "output_type": "execute_result"
    },
    {
     "data": {
      "image/png": "[encoded data removed]",
      "text/plain": [
       "<Figure size 1080x720 with 9 Axes>"
      ]
     },
     "metadata": {
      "needs_background": "light"
     },
     "output_type": "display_data"
    }
   ],
   "source": [
    "#Distribution of the dataset\n",
    "\n",
    "df.hist(bins=50, figsize=(15, 10))"
   ]
  },
  {
   "cell_type": "markdown",
   "metadata": {},
   "source": [
    "### Features"
   ]
  },
  {
   "cell_type": "markdown",
   "metadata": {},
   "source": [
    "For the rest of the homework, we will need to use only these columns:\n",
    "\n",
    "'latitude',\n",
    "'longitude',\n",
    "'housing_median_age',\n",
    "'total_rooms',\n",
    "'total_bedrooms',\n",
    "'population',\n",
    "'households',\n",
    "'median_income',\n",
    "'median_house_value'"
   ]
  },
  {
   "cell_type": "code",
   "execution_count": 70,
   "metadata": {},
   "outputs": [
    {
     "data": {
      "text/plain": [
       "Index(['longitude', 'latitude', 'housing_median_age', 'total_rooms',\n",
       "       'total_bedrooms', 'population', 'households', 'median_income',\n",
       "       'median_house_value'],\n",
       "      dtype='object')"
      ]
     },
     "metadata": {},
     "output_type": "display_data"
    }
   ],
   "source": [
    "df = df.drop(columns=[\"ocean_proximity\"])\n",
    "df_init = df.copy()\n",
    "display(df.columns)"
   ]
  },
  {
   "cell_type": "markdown",
   "metadata": {},
   "source": [
    "##### Question 1\n",
    "Find a feature with missing values. How many missing values does it have?"
   ]
  },
  {
   "cell_type": "code",
   "execution_count": 15,
   "metadata": {},
   "outputs": [
    {
     "data": {
      "text/plain": [
       "longitude               0\n",
       "latitude                0\n",
       "housing_median_age      0\n",
       "total_rooms             0\n",
       "total_bedrooms        207\n",
       "population              0\n",
       "households              0\n",
       "median_income           0\n",
       "median_house_value      0\n",
       "dtype: int64"
      ]
     },
     "execution_count": 15,
     "metadata": {},
     "output_type": "execute_result"
    }
   ],
   "source": [
    "df.isna().sum()"
   ]
  },
  {
   "cell_type": "code",
   "execution_count": 19,
   "metadata": {},
   "outputs": [
    {
     "name": "stdout",
     "output_type": "stream",
     "text": [
      "\n",
      " number of missing values: 207\n"
     ]
    }
   ],
   "source": [
    "missing_values = df.isna().sum().sum()\n",
    "print(f\"\\n number of missing values: {missing_values}\")"
   ]
  },
  {
   "cell_type": "markdown",
   "metadata": {},
   "source": [
    "### Question 2\n",
    "\n",
    "What's the median (50% percentile) for variable 'population'?"
   ]
  },
  {
   "cell_type": "code",
   "execution_count": 22,
   "metadata": {},
   "outputs": [
    {
     "name": "stdout",
     "output_type": "stream",
     "text": [
      "\n",
      " Question 2: 1166.0\n"
     ]
    }
   ],
   "source": [
    "median_in_population = df.population.median()\n",
    "print(f\"\\n Question 2: {median_in_population}\")\n"
   ]
  },
  {
   "cell_type": "markdown",
   "metadata": {},
   "source": [
    "### Rearrange data by shuffling\n",
    "\n",
    "###### Shuffle the initial dataset, use seed 42.\n",
    "\n",
    "###### Split your data in train/val/test sets, with 60%/20%/20% distribution.\n",
    "\n",
    "###### Make sure that the target value ('median_house_value') is not in your dataframe.\n",
    "\n",
    "###### Apply the log transformation to the median_house_value variable using the np.log1p() function."
   ]
  },
  {
   "cell_type": "code",
   "execution_count": 24,
   "metadata": {},
   "outputs": [
    {
     "data": {
      "text/plain": [
       "20640"
      ]
     },
     "execution_count": 24,
     "metadata": {},
     "output_type": "execute_result"
    }
   ],
   "source": [
    "# shuffle\n",
    "\n",
    "n = len(df)\n",
    "n\n",
    "\n",
    "#idx = np.arange(n)\n",
    "\n",
    "#np.random.seed(42) \n",
    "#np.random.shuffle(idx) "
   ]
  },
  {
   "cell_type": "code",
   "execution_count": 27,
   "metadata": {},
   "outputs": [
    {
     "data": {
      "text/plain": [
       "array([    0,     1,     2, ..., 20637, 20638, 20639])"
      ]
     },
     "execution_count": 27,
     "metadata": {},
     "output_type": "execute_result"
    }
   ],
   "source": [
    "index = np.arange(n)\n",
    "index"
   ]
  },
  {
   "cell_type": "code",
   "execution_count": 47,
   "metadata": {},
   "outputs": [],
   "source": [
    "np.random.seed(42)\n",
    "np.random.shuffle(index)\n"
   ]
  },
  {
   "cell_type": "code",
   "execution_count": 48,
   "metadata": {},
   "outputs": [
    {
     "data": {
      "text/plain": [
       "array([  642, 12613,  9500, ...,   982,  3828,  8266])"
      ]
     },
     "execution_count": 48,
     "metadata": {},
     "output_type": "execute_result"
    }
   ],
   "source": [
    "index"
   ]
  },
  {
   "cell_type": "code",
   "execution_count": 54,
   "metadata": {},
   "outputs": [
    {
     "data": {
      "text/html": [
       "<div>\n",
       "<style scoped>\n",
       "    .dataframe tbody tr th:only-of-type {\n",
       "        vertical-align: middle;\n",
       "    }\n",
       "\n",
       "    .dataframe tbody tr th {\n",
       "        vertical-align: top;\n",
       "    }\n",
       "\n",
       "    .dataframe thead th {\n",
       "        text-align: right;\n",
       "    }\n",
       "</style>\n",
       "<table border=\"1\" class=\"dataframe\">\n",
       "  <thead>\n",
       "    <tr style=\"text-align: right;\">\n",
       "      <th></th>\n",
       "      <th>longitude</th>\n",
       "      <th>latitude</th>\n",
       "      <th>housing_median_age</th>\n",
       "      <th>total_rooms</th>\n",
       "      <th>total_bedrooms</th>\n",
       "      <th>population</th>\n",
       "      <th>households</th>\n",
       "      <th>median_income</th>\n",
       "      <th>median_house_value</th>\n",
       "      <th>index</th>\n",
       "    </tr>\n",
       "  </thead>\n",
       "  <tbody>\n",
       "    <tr>\n",
       "      <th>17643</th>\n",
       "      <td>-121.90</td>\n",
       "      <td>37.27</td>\n",
       "      <td>28.0</td>\n",
       "      <td>4538.0</td>\n",
       "      <td>685.0</td>\n",
       "      <td>1996.0</td>\n",
       "      <td>667.0</td>\n",
       "      <td>5.4609</td>\n",
       "      <td>263600.0</td>\n",
       "      <td>0</td>\n",
       "    </tr>\n",
       "    <tr>\n",
       "      <th>12996</th>\n",
       "      <td>-121.25</td>\n",
       "      <td>38.68</td>\n",
       "      <td>15.0</td>\n",
       "      <td>1497.0</td>\n",
       "      <td>243.0</td>\n",
       "      <td>730.0</td>\n",
       "      <td>242.0</td>\n",
       "      <td>4.9688</td>\n",
       "      <td>135600.0</td>\n",
       "      <td>1</td>\n",
       "    </tr>\n",
       "    <tr>\n",
       "      <th>4681</th>\n",
       "      <td>-118.34</td>\n",
       "      <td>34.08</td>\n",
       "      <td>52.0</td>\n",
       "      <td>2756.0</td>\n",
       "      <td>542.0</td>\n",
       "      <td>971.0</td>\n",
       "      <td>510.0</td>\n",
       "      <td>5.5871</td>\n",
       "      <td>500001.0</td>\n",
       "      <td>2</td>\n",
       "    </tr>\n",
       "    <tr>\n",
       "      <th>10752</th>\n",
       "      <td>-117.89</td>\n",
       "      <td>33.61</td>\n",
       "      <td>42.0</td>\n",
       "      <td>1301.0</td>\n",
       "      <td>280.0</td>\n",
       "      <td>539.0</td>\n",
       "      <td>249.0</td>\n",
       "      <td>5.0000</td>\n",
       "      <td>500001.0</td>\n",
       "      <td>3</td>\n",
       "    </tr>\n",
       "    <tr>\n",
       "      <th>12048</th>\n",
       "      <td>-117.50</td>\n",
       "      <td>33.87</td>\n",
       "      <td>4.0</td>\n",
       "      <td>6755.0</td>\n",
       "      <td>1017.0</td>\n",
       "      <td>2866.0</td>\n",
       "      <td>850.0</td>\n",
       "      <td>5.0493</td>\n",
       "      <td>239800.0</td>\n",
       "      <td>4</td>\n",
       "    </tr>\n",
       "  </tbody>\n",
       "</table>\n",
       "</div>"
      ],
      "text/plain": [
       "       longitude  latitude  housing_median_age  total_rooms  total_bedrooms  \\\n",
       "17643    -121.90     37.27                28.0       4538.0           685.0   \n",
       "12996    -121.25     38.68                15.0       1497.0           243.0   \n",
       "4681     -118.34     34.08                52.0       2756.0           542.0   \n",
       "10752    -117.89     33.61                42.0       1301.0           280.0   \n",
       "12048    -117.50     33.87                 4.0       6755.0          1017.0   \n",
       "\n",
       "       population  households  median_income  median_house_value  index  \n",
       "17643      1996.0       667.0         5.4609            263600.0      0  \n",
       "12996       730.0       242.0         4.9688            135600.0      1  \n",
       "4681        971.0       510.0         5.5871            500001.0      2  \n",
       "10752       539.0       249.0         5.0000            500001.0      3  \n",
       "12048      2866.0       850.0         5.0493            239800.0      4  "
      ]
     },
     "execution_count": 54,
     "metadata": {},
     "output_type": "execute_result"
    }
   ],
   "source": [
    "df[\"index\"] = index\n",
    "\n",
    "df = df.sort_values(by=\"index\", ascending=True)\n",
    "df.head()"
   ]
  },
  {
   "cell_type": "code",
   "execution_count": 55,
   "metadata": {},
   "outputs": [
    {
     "data": {
      "text/html": [
       "<div>\n",
       "<style scoped>\n",
       "    .dataframe tbody tr th:only-of-type {\n",
       "        vertical-align: middle;\n",
       "    }\n",
       "\n",
       "    .dataframe tbody tr th {\n",
       "        vertical-align: top;\n",
       "    }\n",
       "\n",
       "    .dataframe thead th {\n",
       "        text-align: right;\n",
       "    }\n",
       "</style>\n",
       "<table border=\"1\" class=\"dataframe\">\n",
       "  <thead>\n",
       "    <tr style=\"text-align: right;\">\n",
       "      <th></th>\n",
       "      <th>longitude</th>\n",
       "      <th>latitude</th>\n",
       "      <th>housing_median_age</th>\n",
       "      <th>total_rooms</th>\n",
       "      <th>total_bedrooms</th>\n",
       "      <th>population</th>\n",
       "      <th>households</th>\n",
       "      <th>median_income</th>\n",
       "      <th>median_house_value</th>\n",
       "    </tr>\n",
       "  </thead>\n",
       "  <tbody>\n",
       "    <tr>\n",
       "      <th>17643</th>\n",
       "      <td>-121.90</td>\n",
       "      <td>37.27</td>\n",
       "      <td>28.0</td>\n",
       "      <td>4538.0</td>\n",
       "      <td>685.0</td>\n",
       "      <td>1996.0</td>\n",
       "      <td>667.0</td>\n",
       "      <td>5.4609</td>\n",
       "      <td>263600.0</td>\n",
       "    </tr>\n",
       "    <tr>\n",
       "      <th>12996</th>\n",
       "      <td>-121.25</td>\n",
       "      <td>38.68</td>\n",
       "      <td>15.0</td>\n",
       "      <td>1497.0</td>\n",
       "      <td>243.0</td>\n",
       "      <td>730.0</td>\n",
       "      <td>242.0</td>\n",
       "      <td>4.9688</td>\n",
       "      <td>135600.0</td>\n",
       "    </tr>\n",
       "    <tr>\n",
       "      <th>4681</th>\n",
       "      <td>-118.34</td>\n",
       "      <td>34.08</td>\n",
       "      <td>52.0</td>\n",
       "      <td>2756.0</td>\n",
       "      <td>542.0</td>\n",
       "      <td>971.0</td>\n",
       "      <td>510.0</td>\n",
       "      <td>5.5871</td>\n",
       "      <td>500001.0</td>\n",
       "    </tr>\n",
       "    <tr>\n",
       "      <th>10752</th>\n",
       "      <td>-117.89</td>\n",
       "      <td>33.61</td>\n",
       "      <td>42.0</td>\n",
       "      <td>1301.0</td>\n",
       "      <td>280.0</td>\n",
       "      <td>539.0</td>\n",
       "      <td>249.0</td>\n",
       "      <td>5.0000</td>\n",
       "      <td>500001.0</td>\n",
       "    </tr>\n",
       "    <tr>\n",
       "      <th>12048</th>\n",
       "      <td>-117.50</td>\n",
       "      <td>33.87</td>\n",
       "      <td>4.0</td>\n",
       "      <td>6755.0</td>\n",
       "      <td>1017.0</td>\n",
       "      <td>2866.0</td>\n",
       "      <td>850.0</td>\n",
       "      <td>5.0493</td>\n",
       "      <td>239800.0</td>\n",
       "    </tr>\n",
       "  </tbody>\n",
       "</table>\n",
       "</div>"
      ],
      "text/plain": [
       "       longitude  latitude  housing_median_age  total_rooms  total_bedrooms  \\\n",
       "17643    -121.90     37.27                28.0       4538.0           685.0   \n",
       "12996    -121.25     38.68                15.0       1497.0           243.0   \n",
       "4681     -118.34     34.08                52.0       2756.0           542.0   \n",
       "10752    -117.89     33.61                42.0       1301.0           280.0   \n",
       "12048    -117.50     33.87                 4.0       6755.0          1017.0   \n",
       "\n",
       "       population  households  median_income  median_house_value  \n",
       "17643      1996.0       667.0         5.4609            263600.0  \n",
       "12996       730.0       242.0         4.9688            135600.0  \n",
       "4681        971.0       510.0         5.5871            500001.0  \n",
       "10752       539.0       249.0         5.0000            500001.0  \n",
       "12048      2866.0       850.0         5.0493            239800.0  "
      ]
     },
     "execution_count": 55,
     "metadata": {},
     "output_type": "execute_result"
    }
   ],
   "source": [
    "df = df.drop(columns=[\"index\"])\n",
    "df.head()"
   ]
  },
  {
   "cell_type": "code",
   "execution_count": 56,
   "metadata": {},
   "outputs": [],
   "source": [
    "# splitting the data into training, validation and test sets:\n",
    "n = len(df)\n",
    "val = int(0.2 * n)\n",
    "test = int(0.2 * n)\n",
    "train = int(0.6 * n)\n",
    "df_train = df.iloc[:train]\n",
    "df_val = df.iloc[train : train + val]\n",
    "df_test = df.iloc[train + val :]"
   ]
  },
  {
   "cell_type": "code",
   "execution_count": 58,
   "metadata": {},
   "outputs": [
    {
     "data": {
      "text/plain": [
       "12384"
      ]
     },
     "metadata": {},
     "output_type": "display_data"
    },
    {
     "data": {
      "text/plain": [
       "4128"
      ]
     },
     "metadata": {},
     "output_type": "display_data"
    },
    {
     "data": {
      "text/plain": [
       "4128"
      ]
     },
     "metadata": {},
     "output_type": "display_data"
    }
   ],
   "source": [
    "display(len(df_train))\n",
    "display(len(df_test))\n",
    "display(len(df_val))"
   ]
  },
  {
   "cell_type": "code",
   "execution_count": 59,
   "metadata": {},
   "outputs": [],
   "source": [
    "#Remove target from dataframe\n",
    "\n",
    "df_train_f = df_train.drop(columns=[\"median_house_value\"])\n",
    "df_val_f = df_val.drop(columns=[\"median_house_value\"])\n",
    "df_testf_f = df_test.drop(columns=[\"median_house_value\"])"
   ]
  },
  {
   "cell_type": "code",
   "execution_count": 60,
   "metadata": {},
   "outputs": [],
   "source": [
    "# log1p transformation of the target variable :\n",
    "\n",
    "y_train = np.log1p(np.array(df_train.median_house_value.values))\n",
    "y_val = np.log1p(np.array(df_val.median_house_value.values))\n",
    "y_test = np.log1p(np.array(df_test.median_house_value.values))"
   ]
  },
  {
   "cell_type": "code",
   "execution_count": 64,
   "metadata": {},
   "outputs": [
    {
     "data": {
      "text/plain": [
       "array([[<AxesSubplot:title={'center':'y_training'}>]], dtype=object)"
      ]
     },
     "execution_count": 64,
     "metadata": {},
     "output_type": "execute_result"
    },
    {
     "data": {
      "image/png": "[encoded data removed]",
      "text/plain": [
       "<Figure size 432x288 with 1 Axes>"
      ]
     },
     "metadata": {
      "needs_background": "light"
     },
     "output_type": "display_data"
    }
   ],
   "source": [
    "y_train_df = pd.DataFrame(y_train,columns=['y_training'])\n",
    "y_train_df.hist()"
   ]
  },
  {
   "cell_type": "markdown",
   "metadata": {},
   "source": [
    "### Question 3\n",
    "##### We need to deal with missing values for the column from Q1.\n",
    "##### We have two options: fill it with 0 or with the mean of this variable.\n",
    "##### Try both options. For each, train a linear regression model without regularization using the code from the lessons.\n",
    "##### For computing the mean, use the training only!\n",
    "##### Use the validation dataset to evaluate the models and compare the RMSE of each option.\n",
    "##### Round the RMSE scores to 2 decimal digits using round(score, 2)\n",
    "##### Which option gives better RMSE?"
   ]
  },
  {
   "cell_type": "code",
   "execution_count": 65,
   "metadata": {},
   "outputs": [],
   "source": [
    "def prepare_X_null(df):\n",
    "    #  function to prepare dataset with 0\n",
    "    df = df.copy()\n",
    "    df = df.fillna(0)\n",
    "    X = df.values\n",
    "    return X\n",
    "\n",
    "\n",
    "def prepare_X_mean(df):\n",
    "    # function to prepare dataset with mean\n",
    "    df = df.copy()\n",
    "    mean = df.total_bedrooms.mean()\n",
    "    df.total_bedrooms = df.total_bedrooms.fillna(mean)\n",
    "    X = df.values\n",
    "    return X\n",
    "\n",
    "\n",
    "def prepare_X_median(df):\n",
    "    # function to prepare dataset with median\n",
    "    df = df.copy()\n",
    "    median = df.total_bedrooms.median()\n",
    "    df.total_bedrooms = df.total_bedrooms.fillna(median)\n",
    "    X = df.values\n",
    "    return X"
   ]
  },
  {
   "cell_type": "code",
   "execution_count": 66,
   "metadata": {},
   "outputs": [
    {
     "name": "stdout",
     "output_type": "stream",
     "text": [
      "RMSE score for option_null = 0.35\n",
      "RMSE score for option_mean = 0.35\n",
      "RMSE score for option_median = 0.35\n"
     ]
    }
   ],
   "source": [
    "def train_linear_regression(x_train, y_train):\n",
    "    # function to train the Linear Regression model\n",
    "    ones = np.ones(x_train.shape[0])\n",
    "    x_train = np.column_stack([ones, x_train])\n",
    "\n",
    "    XTX = x_train.T.dot(x_train)\n",
    "    XTX_inv = np.linalg.inv(XTX)\n",
    "\n",
    "    w_full = XTX_inv.dot(x_train.T).dot(y_train)\n",
    "    w0 = w_full[0]\n",
    "    w = w_full[1:]\n",
    "\n",
    "    return w0, w\n",
    "\n",
    "\n",
    "def predict_linear_regression(x_val, w0, w_array):\n",
    "    # function for marking predictions:\n",
    "    y_pred = w0 + x_val.dot(w_array)\n",
    "    return y_pred\n",
    "\n",
    "\n",
    "def rmse(y_pred, y_val):\n",
    "    # function to calculate RMSE:\n",
    "    SE = (y_pred - y_val) ** 2\n",
    "    MSE = SE.mean()\n",
    "    RMSE = np.sqrt(MSE)\n",
    "    return RMSE\n",
    "\n",
    "\n",
    "x_train_0 = prepare_X_null(df_train_f)\n",
    "x_train_mean = prepare_X_mean(df_train_f)\n",
    "x_train_median = prepare_X_median(df_train_f)\n",
    "\n",
    "\n",
    "x_null_val = prepare_X_null(df_val_f)\n",
    "x_mean_val = prepare_X_mean(df_val_f)\n",
    "x_median_val = prepare_X_median(df_val_f)\n",
    "\n",
    "\n",
    "w0_null, w_null = train_linear_regression(x_train_0, y_train)\n",
    "w0_mean, w_mean = train_linear_regression(x_train_mean, y_train)\n",
    "w0_median, w_median = train_linear_regression(x_train_median, y_train)\n",
    "\n",
    "\n",
    "y_null_pred = predict_linear_regression(x_null_val, w0_null, w_null)\n",
    "y_mean_pred = predict_linear_regression(x_mean_val, w0_mean, w_mean)\n",
    "y_median_pred = predict_linear_regression(x_median_val, w0_median, w_median)\n",
    "\n",
    "\n",
    "rmse_option_null = rmse(y_null_pred, y_val)\n",
    "rmse_option_mean = rmse(y_mean_pred, y_val)\n",
    "rmse_option_median = rmse(y_median_pred, y_val)\n",
    "\n",
    "\n",
    "print(f\"RMSE score for option_null = {round(rmse_option_null, 2)}\")\n",
    "print(f\"RMSE score for option_mean = {round(rmse_option_mean, 2)}\")\n",
    "print(f\"RMSE score for option_median = {round(rmse_option_median, 2)}\")\n",
    "\n"
   ]
  },
  {
   "cell_type": "markdown",
   "metadata": {},
   "source": [
    "### Question 4\n",
    "###### Now let's train a regularized linear regression.\n",
    "###### For this question, fill the NAs with 0.\n",
    "###### Try different values of r from this list: [0, 0.000001, 0.0001, 0.001, 0.01, 0.1, 1, 5, 10].\n",
    "###### Use RMSE to evaluate the model on the validation dataset.\n",
    "###### Round the RMSE scores to 2 decimal digits.\n",
    "###### Which r gives the best RMSE?"
   ]
  },
  {
   "cell_type": "code",
   "execution_count": 67,
   "metadata": {},
   "outputs": [
    {
     "name": "stdout",
     "output_type": "stream",
     "text": [
      "For r =       0 RMSE_score = 0.35\n",
      "For r =   1e-06 RMSE_score = 0.35\n",
      "For r =  0.0001 RMSE_score = 0.35\n",
      "For r =   0.001 RMSE_score = 0.35\n",
      "For r =    0.01 RMSE_score = 0.35\n",
      "For r =     0.1 RMSE_score = 0.35\n",
      "For r =       1 RMSE_score = 0.35\n",
      "For r =       5 RMSE_score = 0.36\n",
      "For r =      10 RMSE_score = 0.36\n"
     ]
    }
   ],
   "source": [
    "def train_linear_regression_reg(x_train, y_train, r=0):\n",
    "    # function for Linear Regression model training with Regularization\n",
    "    ones = np.ones(x_train.shape[0])\n",
    "    x_train = np.column_stack([ones, x_train])\n",
    "\n",
    "    XTX = x_train.T.dot(x_train)\n",
    "    reg = r * np.eye(XTX.shape[0])\n",
    "    XTX = XTX + reg\n",
    "\n",
    "    XTX_inv = np.linalg.inv(XTX)\n",
    "\n",
    "    w_full = XTX_inv.dot(x_train.T).dot(y_train)\n",
    "\n",
    "    w0 = w_full[0]\n",
    "    w = w_full[1:]\n",
    "\n",
    "    return w0, w\n",
    "\n",
    "\n",
    "r_list = [0, 0.000001, 0.0001, 0.001, 0.01, 0.1, 1, 5, 10]\n",
    "\n",
    "x_train = prepare_X_null(df_train_f)\n",
    "x_val = prepare_X_null(df_val_f)\n",
    "\n",
    "for r in r_list:\n",
    "\n",
    "    w0, w = train_linear_regression_reg(x_train, y_train, r=r)\n",
    "    y_pred = predict_linear_regression(x_val, w0, w)\n",
    "\n",
    "    rmse_score = rmse(y_val, y_pred)\n",
    "    print(f\"For r = {r:>7} RMSE_score = {round(rmse_score, 2)}\")"
   ]
  },
  {
   "cell_type": "markdown",
   "metadata": {},
   "source": [
    "### Question 5\n",
    "###### We used seed 42 for splitting the data. Let's find out how selecting the seed influences our score.\n",
    "###### Try different seed values: [0, 1, 2, 3, 4, 5, 6, 7, 8, 9].\n",
    "###### For each seed, do the train/validation/test split with 60%/20%/20% distribution.\n",
    "###### Fill the missing values with 0 and train a model without regularization.\n",
    "###### For each seed, evaluate the model on the validation dataset and collect the RMSE scores.\n",
    "###### What's the standard deviation of all the scores? To compute the standard deviation, use np.std.\n",
    "###### Round the result to 3 decimal digits (round(std, 3))"
   ]
  },
  {
   "cell_type": "code",
   "execution_count": 71,
   "metadata": {},
   "outputs": [
    {
     "name": "stdout",
     "output_type": "stream",
     "text": [
      "For Seed = 0, RMSE = 0.3365724771959996\n",
      "For Seed = 1, RMSE = 0.3384915167196613\n",
      "For Seed = 2, RMSE = 0.3418221508283065\n",
      "For Seed = 3, RMSE = 0.339440454555\n",
      "For Seed = 4, RMSE = 0.3361200800899308\n",
      "For Seed = 5, RMSE = 0.33923763557704995\n",
      "For Seed = 6, RMSE = 0.35189733420140745\n",
      "For Seed = 7, RMSE = 0.3486368768386161\n",
      "For Seed = 8, RMSE = 0.34355356916904\n",
      "For Seed = 9, RMSE = 0.3384608743807607\n"
     ]
    }
   ],
   "source": [
    "def rmse_random_seed(df, random_seed):\n",
    "\n",
    "    df = df.copy()\n",
    "    n = len(df)\n",
    "    idx = np.arange(n)\n",
    "    np.random.seed(random_seed)\n",
    "    np.random.shuffle(idx)\n",
    "\n",
    "    df[\"idx\"] = idx\n",
    "    df = df.sort_values(by=\"idx\", ascending=True)\n",
    "    df = df.drop(columns=[\"idx\"])\n",
    "    df = df.reset_index(drop=True)\n",
    "\n",
    "    n_val = int(0.2 * n)\n",
    "    n_test = int(0.2 * n)\n",
    "    n_train = n - (n_val + n_test)\n",
    "    df_train = df.iloc[:n_train]\n",
    "    df_val = df.iloc[n_train : n_train + n_val]\n",
    "    df_test = df.iloc[n_train + n_val :]\n",
    "\n",
    "    y_train = np.log1p(np.array(df_train.median_house_value.values))\n",
    "    y_val = np.log1p(np.array(df_val.median_house_value.values))\n",
    "\n",
    "    df_train_f = df_train.drop(columns=[\"median_house_value\"])\n",
    "    df_val_f = df_val.drop(columns=[\"median_house_value\"])\n",
    "\n",
    "    x_train = prepare_X_null(df_train_f)\n",
    "    w0, w = train_linear_regression(x_train, y_train)\n",
    "    \n",
    "    x_val = prepare_X_null(df_val_f)\n",
    "    y_pred = predict_linear_regression(x_val, w0, w)\n",
    "    \n",
    "    rmse_score = rmse(y_pred, y_val)\n",
    "    return rmse_score\n",
    "\n",
    "\n",
    "rmse_scores_list = []\n",
    "s = [0, 1, 2, 3, 4, 5, 6, 7, 8, 9]\n",
    "\n",
    "for seed in s:\n",
    "    rmse_score = rmse_random_seed(df_init, seed)\n",
    "    rmse_scores_list.append(rmse_score)\n",
    "\n",
    "    print(f\"For Seed = {seed}, RMSE = {rmse_score}\")"
   ]
  },
  {
   "cell_type": "code",
   "execution_count": 73,
   "metadata": {},
   "outputs": [
    {
     "data": {
      "text/plain": [
       "0.005"
      ]
     },
     "execution_count": 73,
     "metadata": {},
     "output_type": "execute_result"
    }
   ],
   "source": [
    "# calculating the standard deviation of rmse results for different data splits:\n",
    "\n",
    "standard_deviation = round(np.std(rmse_scores_list), 3)\n",
    "standard_deviation"
   ]
  },
  {
   "cell_type": "markdown",
   "metadata": {},
   "source": [
    "### Question 6\n",
    "###### Split the dataset like previously, use seed 9.\n",
    "###### Combine train and validation datasets.\n",
    "###### Fill the missing values with 0 and train a model with r=0.001.\n",
    "###### What's the RMSE on the test dataset?"
   ]
  },
  {
   "cell_type": "code",
   "execution_count": 74,
   "metadata": {},
   "outputs": [
    {
     "data": {
      "text/plain": [
       "0.3400349372175485"
      ]
     },
     "execution_count": 74,
     "metadata": {},
     "output_type": "execute_result"
    }
   ],
   "source": [
    "df = df.copy()\n",
    "n = len(df)\n",
    "idx = np.arange(n)\n",
    "np.random.seed(9)\n",
    "np.random.shuffle(idx)\n",
    "\n",
    "df[\"idx\"] = idx\n",
    "df = df.sort_values(by=\"idx\", ascending=True)\n",
    "df = df.drop(columns=[\"idx\"])\n",
    "df = df.reset_index(drop=True)\n",
    "\n",
    "n_val = int(0.2 * n)\n",
    "n_test = int(0.2 * n)\n",
    "n_train = n - (n_val + n_test)\n",
    "df_train = df.iloc[:n_train]\n",
    "df_val = df.iloc[n_train : n_train + n_val]\n",
    "df_test = df.iloc[n_train + n_val :]\n",
    "\n",
    "\n",
    "y_train = np.log1p(np.array(df_train.median_house_value.values))\n",
    "y_val = np.log1p(np.array(df_val.median_house_value.values))\n",
    "y_test = np.log1p(np.array(df_test.median_house_value.values))\n",
    "\n",
    "df_train_f = df_train.drop(columns=[\"median_house_value\"])\n",
    "df_val_f = df_val.drop(columns=[\"median_house_value\"])\n",
    "df_test_f = df_test.drop(columns=[\"median_house_value\"])\n",
    "\n",
    "\n",
    "df_train_val = pd.concat([df_train_f, df_val_f])\n",
    "y_train_val = np.concatenate([y_train, y_val])\n",
    "\n",
    "x_train_val = prepare_X_null(df_train_val)\n",
    "w0, w = train_linear_regression_reg(x_train_val, y_train_val, r=0.001)\n",
    "\n",
    "x_test = prepare_X_null(df_test_f)\n",
    "y_pred = predict_linear_regression(x_test, w0, w)\n",
    "\n",
    "rmse_score = rmse(y_pred, y_test)\n",
    "rmse_score"
   ]
  }
 ],
 "metadata": {
  "kernelspec": {
   "display_name": "Python 3.9.7 ('base')",
   "language": "python",
   "name": "python3"
  },
  "language_info": {
   "codemirror_mode": {
    "name": "ipython",
    "version": 3
   },
   "file_extension": ".py",
   "mimetype": "text/x-python",
   "name": "python",
   "nbconvert_exporter": "python",
   "pygments_lexer": "ipython3",
   "version": "3.9.7"
  },
  "orig_nbformat": 4,
  "vscode": {
   "interpreter": {
    "hash": "5bcef26ca98546d29492bb7ccb9c24df4b97006e26fb72842bfe25a2d13649a0"
   }
  }
 },
 "nbformat": 4,
 "nbformat_minor": 2
}
